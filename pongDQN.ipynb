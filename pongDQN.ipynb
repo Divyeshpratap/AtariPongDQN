{
 "cells": [
  {
   "cell_type": "code",
   "execution_count": 1,
   "id": "de9f59fd",
   "metadata": {},
   "outputs": [
    {
     "name": "stdout",
     "output_type": "stream",
     "text": [
      "Sun May  5 23:22:30 2024       \r\n",
      "+-----------------------------------------------------------------------------+\r\n",
      "| NVIDIA-SMI 525.89.02    Driver Version: 525.89.02    CUDA Version: 12.0     |\r\n",
      "|-------------------------------+----------------------+----------------------+\r\n",
      "| GPU  Name        Persistence-M| Bus-Id        Disp.A | Volatile Uncorr. ECC |\r\n",
      "| Fan  Temp  Perf  Pwr:Usage/Cap|         Memory-Usage | GPU-Util  Compute M. |\r\n",
      "|                               |                      |               MIG M. |\r\n",
      "|===============================+======================+======================|\r\n",
      "|   0  NVIDIA A100-PCI...  On   | 00000000:17:00.0 Off |                    0 |\r\n",
      "| N/A   30C    P0    35W / 250W |   1569MiB / 40960MiB |      0%      Default |\r\n",
      "|                               |                      |             Disabled |\r\n",
      "+-------------------------------+----------------------+----------------------+\r\n",
      "                                                                               \r\n",
      "+-----------------------------------------------------------------------------+\r\n",
      "| Processes:                                                                  |\r\n",
      "|  GPU   GI   CI        PID   Type   Process name                  GPU Memory |\r\n",
      "|        ID   ID                                                   Usage      |\r\n",
      "|=============================================================================|\r\n",
      "|    0   N/A  N/A   2579333      C   ...0/python/3.9.6/bin/python     1566MiB |\r\n",
      "+-----------------------------------------------------------------------------+\r\n"
     ]
    }
   ],
   "source": [
    "!nvidia-smi"
   ]
  },
  {
   "cell_type": "code",
   "execution_count": null,
   "id": "b3fd862c",
   "metadata": {},
   "outputs": [],
   "source": [
    "# Library Imports"
   ]
  },
  {
   "cell_type": "code",
   "execution_count": 2,
   "id": "d68c6b20",
   "metadata": {},
   "outputs": [],
   "source": [
    "import gym\n",
    "import math\n",
    "import matplotlib.pyplot as plt\n",
    "import matplotlib\n",
    "from collections import namedtuple, deque\n",
    "from itertools import count\n",
    "import torch\n",
    "import torch.nn as nn\n",
    "import torch.optim as optim\n",
    "import torch.nn.functional as F\n",
    "import random\n",
    "from gym import spaces\n",
    "import numpy as np\n",
    "import pickle\n",
    "from IPython.display import display, clear_output\n",
    "from matplotlib import animation\n",
    "from IPython import display as ipythondisplay\n",
    "import os\n",
    "\n",
    "is_ipython_env = 'inline' in matplotlib.get_backend()\n",
    "if is_ipython_env:\n",
    "    from IPython.display import display, clear_output\n",
    "\n",
    "plt.ion()\n",
    "\n",
    "\n",
    "compute_device = torch.device(\"cuda\" if torch.cuda.is_available() else \"cpu\")\n"
   ]
  },
  {
   "cell_type": "markdown",
   "id": "36316cc0",
   "metadata": {},
   "source": [
    "# Auxilliary Functions"
   ]
  },
  {
   "cell_type": "code",
   "execution_count": 3,
   "id": "db3b6260",
   "metadata": {},
   "outputs": [],
   "source": [
    "def save_checkpoint(state, filename=\"checkpoint.pth\"):\n",
    "    torch.save(state, filename)\n",
    "\n",
    "def load_checkpoint(filename=\"checkpoint.pth\"):\n",
    "    if os.path.isfile(filename):\n",
    "        state = torch.load(filename)\n",
    "        print(\"Loaded checkpoint '{}'\" .format(filename))\n",
    "        return state\n",
    "    else:\n",
    "        print(\"No checkpoint found at '{}'\" .format(filename))\n",
    "        return None\n",
    "\n",
    "def display_rewards(show_final=False):\n",
    "    plt.figure(1)\n",
    "    plt.clf()\n",
    "    plt.title('Results' if show_final else 'Training Progress')\n",
    "    plt.xlabel('Episode')\n",
    "    plt.ylabel('Total Reward')\n",
    "    plt.plot(torch.tensor(total_rewards, dtype=torch.float).numpy())\n",
    "    if len(total_rewards) >= 50:\n",
    "        rolling_mean = torch.tensor(total_rewards, dtype=torch.float).unfold(0, 50, 1).mean(1).view(-1)\n",
    "        rolling_mean = torch.cat((torch.full((49,), -21), rolling_mean))\n",
    "        plt.plot(rolling_mean.numpy())\n",
    "    plt.pause(0.001)\n",
    "    if is_ipython_env and not show_final:\n",
    "        display(plt.gcf())\n",
    "        clear_output(wait=True)\n",
    "    elif show_final:\n",
    "        display(plt.gcf())"
   ]
  },
  {
   "cell_type": "code",
   "execution_count": 4,
   "id": "07e52719",
   "metadata": {},
   "outputs": [],
   "source": [
    "\n",
    "def refine_frame(frame):\n",
    "    frame = frame[6:189]  \n",
    "    frame = frame[::2, ::2] \n",
    "    frame = frame.astype(np.float32) / 255.0  \n",
    "    frame = np.transpose(frame, (2, 0, 1))  \n",
    "    return torch.from_numpy(frame).to(compute_device) \n",
    "\n",
    "def assemble_state(frames):\n",
    "    state = torch.cat(tuple(frames), dim=0)\n",
    "    state = state.unsqueeze(0)\n",
    "    return state\n",
    "\n",
    "\n",
    "# Defining the convolutionlayer. Since we are stacking frames hence for three frames 3 frames and 3 RGB channels 9 is used\n",
    "class ConvDQN(nn.Module):\n",
    "    def __init__(self, height, width, action_count):\n",
    "        super(ConvDQN, self).__init__()\n",
    "        self.conv1 = nn.Conv2d(9, 32, kernel_size=5, stride=2)\n",
    "        self.bn1 = nn.BatchNorm2d(32)\n",
    "        self.conv2 = nn.Conv2d(32, 32, kernel_size=5, stride=2)\n",
    "        self.bn2 = nn.BatchNorm2d(32)\n",
    "\n",
    "\n",
    "        def compute_conv_output_size(size, kernel_size=5, stride=2):\n",
    "            return (size - (kernel_size - 1) - 1) // stride + 1\n",
    "        conv_width = compute_conv_output_size(compute_conv_output_size(width))\n",
    "        conv_height = compute_conv_output_size(compute_conv_output_size(height))\n",
    "        linear_input_size = conv_width * conv_height * 32\n",
    "#         print(\"Expected input size to fc1:\", linear_input_size) \n",
    "        self.fc1 = nn.Linear(linear_input_size, 512)\n",
    "        self.fc2 = nn.Linear(512, action_count)\n",
    "\n",
    "    def forward(self, x):\n",
    "        x = F.relu(self.bn1(self.conv1(x)))\n",
    "        x = F.relu(self.bn2(self.conv2(x)))\n",
    "        x = x.view(x.size(0), -1)\n",
    "#         print(\"Actual size before fc1:\", x.shape)\n",
    "        x = F.relu(self.fc1(x))\n",
    "        return self.fc2(x)\n",
    "\n",
    "\n",
    "\n",
    "\n",
    "Transition = namedtuple('Transition', ('state', 'action', 'next_state', 'reward'))\n",
    "\n",
    "def choose_action(state, eps_threshold):\n",
    "    global steps_taken\n",
    "    random_sample = random.random()\n",
    "    if random_sample > eps_threshold:\n",
    "        with torch.no_grad():\n",
    "            return strategy_net(state).max(1)[1].view(1, 1)\n",
    "    else:\n",
    "        return torch.tensor([[random.randrange(action_space_size)]], device=compute_device, dtype=torch.long)\n",
    "\n",
    "\n",
    "\n",
    "class ExperienceReplay(object):\n",
    "    def __init__(self, capacity):\n",
    "        self.memory = deque([], maxlen=capacity)\n",
    "\n",
    "    def add(self, *args):\n",
    "        self.memory.append(Transition(*args))\n",
    "\n",
    "    def sample_batch(self, batch_size):\n",
    "        return random.sample(self.memory, batch_size)\n",
    "\n",
    "    def __len__(self):\n",
    "        return len(self.memory)\n",
    "\n",
    "\n",
    "\n",
    "def refine_model():\n",
    "    if len(memory_bank) < batch_size:\n",
    "        return\n",
    "    sampled_transitions = memory_bank.sample_batch(batch_size)\n",
    "    batch = Transition(*zip(*sampled_transitions))\n",
    "\n",
    "    non_terminal_mask = torch.tensor(tuple(map(lambda s: s is not None, batch.next_state)), device=compute_device, dtype=torch.bool)\n",
    "    non_terminal_next_states = torch.cat([s for s in batch.next_state if s is not None])\n",
    "    state_batch = torch.cat(batch.state)\n",
    "    action_batch = torch.cat(batch.action)\n",
    "    reward_batch = torch.cat(batch.reward)\n",
    "\n",
    "    current_q_values = strategy_net(state_batch).gather(1, action_batch)\n",
    "    next_q_values = torch.zeros(batch_size, device=compute_device)\n",
    "    next_q_values[non_terminal_mask] = target_net(non_terminal_next_states).max(1)[0].detach()\n",
    "    expected_q_values = (next_q_values * discount_factor) + reward_batch\n",
    "\n",
    "    loss = nn.SmoothL1Loss()(current_q_values, expected_q_values.unsqueeze(1))\n",
    "    optimizer.zero_grad()\n",
    "    loss.backward()\n",
    "    optimizer.step()\n"
   ]
  },
  {
   "cell_type": "markdown",
   "id": "fce377ed",
   "metadata": {},
   "source": [
    "# Initializing Parameters"
   ]
  },
  {
   "cell_type": "code",
   "execution_count": 5,
   "id": "283c026f",
   "metadata": {},
   "outputs": [
    {
     "data": {
      "text/plain": [
       "'0.25.2'"
      ]
     },
     "execution_count": 5,
     "metadata": {},
     "output_type": "execute_result"
    }
   ],
   "source": [
    "gym.__version__"
   ]
  },
  {
   "cell_type": "code",
   "execution_count": 6,
   "id": "0f87ad6b",
   "metadata": {},
   "outputs": [
    {
     "name": "stderr",
     "output_type": "stream",
     "text": [
      "A.L.E: Arcade Learning Environment (version 0.7.5+db37282)\n",
      "[Powered by Stella]\n",
      "/user/dsingh27/.local/lib/python3.9/site-packages/gym/core.py:317: DeprecationWarning: \u001b[33mWARN: Initializing wrapper in old step API which returns one bool instead of two. It is recommended to set `new_step_api=True` to use new step API. This will be the default behaviour in future.\u001b[0m\n",
      "  deprecation(\n",
      "/user/dsingh27/.local/lib/python3.9/site-packages/gym/wrappers/step_api_compatibility.py:39: DeprecationWarning: \u001b[33mWARN: Initializing environment in old step API which returns one bool instead of two. It is recommended to set `new_step_api=True` to use new step API. This will be the default behaviour in future.\u001b[0m\n",
      "  deprecation(\n",
      "/user/dsingh27/.local/lib/python3.9/site-packages/gym/core.py:43: DeprecationWarning: \u001b[33mWARN: The argument mode in render method is deprecated; use render_mode during environment initialization instead.\n",
      "See here for more information: https://www.gymlibrary.ml/content/api/\u001b[0m\n",
      "  deprecation(\n",
      "/user/dsingh27/.local/lib/python3.9/site-packages/gym/utils/passive_env_checker.py:297: UserWarning: \u001b[33mWARN: No render fps was declared in the environment (env.metadata['render_fps'] is None or not defined), rendering may occur at inconsistent fps.\u001b[0m\n",
      "  logger.warn(\n"
     ]
    }
   ],
   "source": [
    "\n",
    "env = gym.make(\"Pong-v4\")\n",
    "env.reset()\n",
    "initial_frame = refine_frame(env.render(mode='rgb_array'))\n",
    "_, frame_height, frame_width = initial_frame.shape\n",
    "\n",
    "frame_sequence = deque([initial_frame for _ in range(3)], maxlen=3)\n",
    "current_state = assemble_state(frame_sequence)\n",
    "_, _, frame_heaight, frame_width = current_state.shape\n",
    "\n",
    "\n",
    "batch_size = 64\n",
    "discount_factor = 0.995\n",
    "EPSILON_START = 1\n",
    "EPSILON_END = 0.01\n",
    "EPSILON_DECAY = 1500\n",
    "update_target_net_interval = 175\n",
    "learning_rate = 2e-5\n",
    "total_episodes = 40000\n",
    "steps_taken = 0\n",
    "\n",
    "action_space_size = env.action_space.n\n",
    "strategy_net = ConvDQN(frame_height, frame_width, action_space_size).to(compute_device)\n",
    "target_net = ConvDQN(frame_height, frame_width, action_space_size).to(compute_device)\n",
    "target_net.load_state_dict(strategy_net.state_dict())\n",
    "target_net.eval() \n",
    "optimizer = optim.AdamW(strategy_net.parameters(), lr=learning_rate)\n",
    "memory_bank = ExperienceReplay(100000)\n"
   ]
  },
  {
   "cell_type": "markdown",
   "id": "728ef17b",
   "metadata": {},
   "source": [
    "# Training Function"
   ]
  },
  {
   "cell_type": "code",
   "execution_count": 7,
   "id": "19c9ffed",
   "metadata": {},
   "outputs": [
    {
     "name": "stdout",
     "output_type": "stream",
     "text": [
      "Loaded checkpoint 'checkpoint.pth'\n"
     ]
    }
   ],
   "source": [
    "\n",
    "steps_taken = 0\n",
    "total_rewards = []\n",
    "epsilon_values = []\n",
    "episode_counter = 0\n",
    "steps_done = 0\n",
    "\n",
    "checkpoint_path = \"checkpoint.pth\"\n",
    "continue_train = True  \n",
    "\n",
    "if continue_train:\n",
    "    checkpoint = load_checkpoint(checkpoint_path)\n",
    "    if checkpoint:\n",
    "        strategy_net.load_state_dict(checkpoint['strategy_state_dict'])\n",
    "        target_net.load_state_dict(checkpoint['target_state_dict'])\n",
    "        optimizer.load_state_dict(checkpoint['optimizer_state_dict'])\n",
    "        total_rewards = checkpoint['total_rewards']\n",
    "        epsilon_values = checkpoint['epsilon_values']\n",
    "        episode_counter = checkpoint['episode_counter']\n",
    "        steps_done = checkpoint['steps_done']\n",
    "    else:\n",
    "        total_rewards = []\n",
    "        epsilon_values = []\n",
    "        episode_counter = 0\n",
    "        steps_done = 0\n",
    "else:\n",
    "    total_rewards = []\n",
    "    epsilon_values = []\n",
    "    episode_counter = 0\n",
    "    steps_done = 0"
   ]
  },
  {
   "cell_type": "code",
   "execution_count": null,
   "id": "b7297575",
   "metadata": {},
   "outputs": [
    {
     "name": "stderr",
     "output_type": "stream",
     "text": [
      "/user/dsingh27/.local/lib/python3.9/site-packages/gym/utils/passive_env_checker.py:227: DeprecationWarning: \u001b[33mWARN: Core environment is written in old step API which returns one bool instead of two. It is recommended to rewrite the environment with new step API. \u001b[0m\n",
      "  logger.deprecation(\n"
     ]
    },
    {
     "name": "stdout",
     "output_type": "stream",
     "text": [
      "This episode ran for 3769 timesteps\n",
      "current Episode reward is 14.0\n"
     ]
    },
    {
     "data": {
      "image/png": "[encoded data removed]",
      "text/plain": [
       "<Figure size 432x288 with 1 Axes>"
      ]
     },
     "metadata": {
      "needs_background": "light"
     },
     "output_type": "display_data"
    },
    {
     "data": {
      "text/plain": [
       "<Figure size 432x288 with 0 Axes>"
      ]
     },
     "metadata": {},
     "output_type": "display_data"
    }
   ],
   "source": [
    "i = 0\n",
    "episodeLength = []\n",
    "while episode_counter < total_episodes:\n",
    "    env.reset()\n",
    "    frame_sequence = deque([refine_frame(env.render(mode='rgb_array')) for _ in range(3)], maxlen=3)\n",
    "    current_state = assemble_state(frame_sequence)\n",
    "    episode_reward = 0\n",
    "\n",
    "    epsilon = EPSILON_END + (EPSILON_START - EPSILON_END) * math.exp(-1.0 * steps_done / EPSILON_DECAY)\n",
    "    epsilon_values.append(epsilon)\n",
    "    steps_done += 1\n",
    "    episode_counter += 1\n",
    "    for t in count():\n",
    "        steps_taken += 1\n",
    "        if steps_taken % update_target_net_interval == 0:\n",
    "            target_net.load_state_dict(strategy_net.state_dict())\n",
    "\n",
    "        action = choose_action(current_state, epsilon)\n",
    "        _, reward, finished, _ = env.step(action.item())\n",
    "        episode_reward += reward\n",
    "        if not finished:\n",
    "            new_frame = refine_frame(env.render(mode='rgb_array'))\n",
    "            frame_sequence.append(new_frame)\n",
    "            next_state = assemble_state(frame_sequence)\n",
    "        else:\n",
    "            next_state = None\n",
    "\n",
    "        reward_tensor = torch.tensor([reward], device=compute_device, dtype=torch.float)\n",
    "        memory_bank.add(current_state, action, next_state, reward_tensor)\n",
    "        current_state = next_state if next_state is not None else current_state\n",
    "        refine_model()\n",
    "        i += 1\n",
    "        if finished:\n",
    "            print(f'This episode ran for {i} timesteps')\n",
    "            print(f'current Episode reward is {episode_reward}')\n",
    "            total_rewards.append(episode_reward)\n",
    "            episodeLength.append(i)\n",
    "            i = 0\n",
    "            display_rewards()\n",
    "            break\n",
    "\n",
    "    if episode_counter % 50 == 0:  # example condition\n",
    "        save_checkpoint({\n",
    "            'episode_counter': episode_counter + 1,\n",
    "            'strategy_state_dict': strategy_net.state_dict(),\n",
    "            'target_state_dict': target_net.state_dict(),\n",
    "            'optimizer_state_dict': optimizer.state_dict(),\n",
    "            'total_rewards': total_rewards,\n",
    "            'epsilon_values': epsilon_values,\n",
    "            'steps_done': steps_done\n",
    "        }, checkpoint_path)\n",
    "\n",
    "\n",
    "\n",
    "env.close()\n",
    "display_rewards(show_final=True)\n",
    "plt.ioff()\n",
    "plt.show() \n"
   ]
  },
  {
   "cell_type": "code",
   "execution_count": 8,
   "id": "4a4149ba",
   "metadata": {},
   "outputs": [
    {
     "data": {
      "text/plain": [
       "Text(0.5, 1.0, 'Epsilon Decay Values')"
      ]
     },
     "execution_count": 8,
     "metadata": {},
     "output_type": "execute_result"
    },
    {
     "data": {
      "image/png": "[encoded data removed]",
      "text/plain": [
       "<Figure size 432x288 with 1 Axes>"
      ]
     },
     "metadata": {
      "needs_background": "light"
     },
     "output_type": "display_data"
    }
   ],
   "source": [
    "plt.plot(epsilon_values)\n",
    "plt.title(\"Epsilon Decay Values\")"
   ]
  },
  {
   "cell_type": "markdown",
   "id": "9569c61f",
   "metadata": {},
   "source": [
    "# We can see that our Pong agent is winning the game, but the pong agent is not stabilizing. In fact the pong agent has got 21 multiple times means it won all times. But at the same time our agent is also loosign a few times, but overall the average rewards is positive only.\n",
    "# Althought the number of timesteps for which a game has run is mostly increasing, and is also an indication that the agent is learning."
   ]
  },
  {
   "cell_type": "markdown",
   "id": "351abf59",
   "metadata": {},
   "source": [
    "# References:\n",
    "1. https://karpathy.github.io/2016/05/31/rl/\n",
    "2. https://pytorch.org/tutorials/intermediate/reinforcement_q_learning.html\n",
    "3. https://towardsdatascience.com/intro-to-reinforcement-learning-pong-92a94aa0f84d\n",
    "4. https://huggingface.co/sb3/dqn-PongNoFrameskip-v4\n",
    "5. https://stable-baselines.readthedocs.io/en/master/guide/examples.html\n",
    "6. https://github.com/openai/retro/issues/178\n",
    "7. https://towardsdatascience.com/getting-an-ai-to-play-atari-pong-with-deep-reinforcement-learning-47b0c56e78ae\n",
    "8. "
   ]
  },
  {
   "cell_type": "markdown",
   "id": "c9fe93bd",
   "metadata": {},
   "source": [
    "# Evaluation Mode"
   ]
  },
  {
   "cell_type": "code",
   "execution_count": 8,
   "id": "6adeaa75",
   "metadata": {},
   "outputs": [
    {
     "name": "stdout",
     "output_type": "stream",
     "text": [
      "Loaded checkpoint 'checkpoint.pth'\n"
     ]
    },
    {
     "name": "stderr",
     "output_type": "stream",
     "text": [
      "/user/dsingh27/.local/lib/python3.9/site-packages/gym/utils/passive_env_checker.py:227: DeprecationWarning: \u001b[33mWARN: Core environment is written in old step API which returns one bool instead of two. It is recommended to rewrite the environment with new step API. \u001b[0m\n",
      "  logger.deprecation(\n"
     ]
    },
    {
     "name": "stdout",
     "output_type": "stream",
     "text": [
      "Episode 1: Total Reward = 16.0\n",
      "Episode 2: Total Reward = 9.0\n",
      "Episode 3: Total Reward = 14.0\n",
      "Episode 4: Total Reward = 14.0\n",
      "Episode 5: Total Reward = 8.0\n",
      "Episode 6: Total Reward = 18.0\n",
      "Episode 7: Total Reward = 10.0\n",
      "Episode 8: Total Reward = 15.0\n",
      "Episode 9: Total Reward = 13.0\n",
      "Episode 10: Total Reward = 14.0\n"
     ]
    },
    {
     "data": {
      "image/png": "[encoded data removed]",
      "text/plain": [
       "<Figure size 720x360 with 1 Axes>"
      ]
     },
     "metadata": {
      "needs_background": "light"
     },
     "output_type": "display_data"
    },
    {
     "name": "stdout",
     "output_type": "stream",
     "text": [
      "Average reward over 10 episodes: 13.1\n"
     ]
    }
   ],
   "source": [
    "\n",
    "\n",
    "def evaluate_model(env, model, num_episodes=10):\n",
    "    total_eval_rewards = []\n",
    "    for ep in range(num_episodes):\n",
    "        state = env.reset()\n",
    "        frame_sequence = deque([refine_frame(env.render(mode='rgb_array')) for _ in range(3)], maxlen=3)\n",
    "        state = assemble_state(frame_sequence)\n",
    "        total_reward = 0\n",
    "        while True:\n",
    "            action = model(state).max(1)[1].view(1, 1)  \n",
    "            _, reward, done, _ = env.step(action.item())\n",
    "            total_reward += reward\n",
    "            if not done:\n",
    "                new_frame = refine_frame(env.render(mode='rgb_array'))\n",
    "                frame_sequence.append(new_frame)\n",
    "                state = assemble_state(frame_sequence)\n",
    "            else:\n",
    "                break\n",
    "        total_eval_rewards.append(total_reward)\n",
    "        print(f'Episode {ep+1}: Total Reward = {total_reward}')\n",
    "    plot_evaluation_rewards(total_eval_rewards)\n",
    "    return total_eval_rewards\n",
    "\n",
    "def plot_evaluation_rewards(rewards):\n",
    "    plt.figure(figsize=(10, 5))\n",
    "    plt.plot(rewards, marker='o', linestyle='-', color='b')\n",
    "    plt.title('Rewards per Episode during Evaluation')\n",
    "    plt.xlabel('Episode')\n",
    "    plt.ylabel('Total Reward')\n",
    "    plt.grid(True)\n",
    "    plt.show()\n",
    "\n",
    "# Main code\n",
    "if __name__ == \"__main__\":\n",
    "    env = gym.make(\"Pong-v4\")\n",
    "    checkpoint_path = \"checkpoint.pth\"\n",
    "    checkpoint = load_checkpoint(checkpoint_path)\n",
    "    if checkpoint:\n",
    "        strategy_net.load_state_dict(checkpoint['strategy_state_dict'])\n",
    "        strategy_net.eval()  \n",
    "        total_rewards = evaluate_model(env, strategy_net, num_episodes=10)\n",
    "        print(f'Average reward over 10 episodes: {sum(total_rewards) / len(total_rewards)}')\n",
    "    else:\n",
    "        print(\"Failed to load a trained model.\")\n",
    "    env.close()\n"
   ]
  },
  {
   "cell_type": "markdown",
   "id": "d48e04b6",
   "metadata": {},
   "source": [
    "# Agent is getting consistently postive rewards in Evaluation mode using DQN"
   ]
  }
 ],
 "metadata": {
  "kernelspec": {
   "display_name": "Python 3 (ipykernel)",
   "language": "python",
   "name": "python3"
  },
  "language_info": {
   "codemirror_mode": {
    "name": "ipython",
    "version": 3
   },
   "file_extension": ".py",
   "mimetype": "text/x-python",
   "name": "python",
   "nbconvert_exporter": "python",
   "pygments_lexer": "ipython3",
   "version": "3.9.6"
  }
 },
 "nbformat": 4,
 "nbformat_minor": 5
}
